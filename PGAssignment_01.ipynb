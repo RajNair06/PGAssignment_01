{
 "cells": [
  {
   "cell_type": "markdown",
   "metadata": {},
   "source": [
    "<center>\n",
    "    <img src=\"https://cf-courses-data.s3.us.cloud-object-storage.appdomain.cloud/IBMDeveloperSkillsNetwork-DS0105EN-SkillsNetwork/labs/Module2/images/SN_web_lightmode.png\" width=\"300\" alt=\"cognitiveclass.ai logo\">\n",
    "</center>\n"
   ]
  },
  {
   "cell_type": "markdown",
   "metadata": {},
   "source": [
    "#### Add your code below following the instructions given in the course\n"
   ]
  },
  {
   "cell_type": "markdown",
   "metadata": {},
   "source": [
    "PGAssignment_01\n"
   ]
  },
  {
   "cell_type": "markdown",
   "metadata": {},
   "source": [
    "There are many programming languages ,libraries and tools available for data science . Following are the popular ones :\n"
   ]
  },
  {
   "cell_type": "markdown",
   "metadata": {},
   "source": [
    "Data Science Languages:\n",
    "Python,\n",
    "R"
   ]
  },
  {
   "cell_type": "markdown",
   "metadata": {},
   "source": [
    "Data Science libraries : Numpy , Pandas , ggplot,dplyr"
   ]
  },
  {
   "cell_type": "markdown",
   "metadata": {},
   "source": [
    "Data Science Tools : Apache Spark , Jupyter Notebook ,Tensorflow , Scikit-Learn"
   ]
  },
  {
   "cell_type": "markdown",
   "metadata": {},
   "source": [
    "Examples of Arithmetic Expression :  <br> Addition: 2+3=5 <br> Subtraction : 3-2=1 <br> Multiplication: 3*2=6 <br> Division: 6/2=3.0 <br> Floor Division : 6//2=3\n",
    "\n",
    "    "
   ]
  },
  {
   "cell_type": "code",
   "execution_count": 7,
   "metadata": {
    "tags": []
   },
   "outputs": [
    {
     "name": "stdin",
     "output_type": "stream",
     "text": [
      "Enter an integer for x:  2\n",
      "Enter another integer for y:  2\n"
     ]
    },
    {
     "name": "stdout",
     "output_type": "stream",
     "text": [
      "Product of 2 and 2 is: 4\n",
      "Sum of 2 and 2 is: 4\n"
     ]
    }
   ],
   "source": [
    "x = int(input(\"Enter an integer for x: \"))\n",
    "y = int(input(\"Enter another integer for y: \"))\n",
    "\n",
    "\n",
    "product = x * y\n",
    "\n",
    "\n",
    "sum_result = x + y\n",
    "\n",
    "\n",
    "print(f\"Product of {x} and {y} is: {product}\")\n",
    "print(f\"Sum of {x} and {y} is: {sum_result}\")\n",
    "\n"
   ]
  },
  {
   "cell_type": "code",
   "execution_count": 13,
   "metadata": {
    "tags": []
   },
   "outputs": [
    {
     "name": "stdin",
     "output_type": "stream",
     "text": [
      "Enter the number of minutes:  3\n"
     ]
    },
    {
     "name": "stdout",
     "output_type": "stream",
     "text": [
      "3 in hours is 0.05\n"
     ]
    }
   ],
   "source": [
    "\n",
    "minutes = int(input(\"Enter the number of minutes: \"))\n",
    "\n",
    "\n",
    "hours = minutes / 60\n",
    "\n",
    "\n",
    "print('{} in hours is {}'.format(minutes,hours))\n"
   ]
  },
  {
   "cell_type": "markdown",
   "metadata": {},
   "source": [
    "Objectives : <br>1.Listing programming languages used for Data Science <br>\n",
    "2.List libraries for DS <br>\n",
    "3.List tools for DS <br>\n",
    "4. Listing and performing arithmetic operations <br>\n",
    "5. converting minutes into hours\n"
   ]
  },
  {
   "cell_type": "markdown",
   "metadata": {},
   "source": [
    "Author : Raj Nair"
   ]
  },
  {
   "cell_type": "code",
   "execution_count": null,
   "metadata": {},
   "outputs": [],
   "source": []
  }
 ],
 "metadata": {
  "kernelspec": {
   "display_name": "Python",
   "language": "python",
   "name": "conda-env-python-py"
  },
  "language_info": {
   "codemirror_mode": {
    "name": "ipython",
    "version": 3
   },
   "file_extension": ".py",
   "mimetype": "text/x-python",
   "name": "python",
   "nbconvert_exporter": "python",
   "pygments_lexer": "ipython3",
   "version": "3.7.12"
  }
 },
 "nbformat": 4,
 "nbformat_minor": 4
}
